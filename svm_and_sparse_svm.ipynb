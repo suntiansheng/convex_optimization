{
 "cells": [
  {
   "cell_type": "code",
   "execution_count": 1,
   "metadata": {},
   "outputs": [],
   "source": [
    "import cvxpy as cp\n",
    "import numpy as np\n",
    "import matplotlib.pyplot as plt"
   ]
  },
  {
   "cell_type": "markdown",
   "metadata": {},
   "source": [
    "## generate data"
   ]
  },
  {
   "cell_type": "code",
   "execution_count": 2,
   "metadata": {},
   "outputs": [],
   "source": [
    "n=100;p=40\n",
    "density = 0.2\n",
    "X = np.random.normal(0,1,size=(n,p))\n",
    "idxs = np.random.choice(p, int(density*p), replace=False)\n",
    "beta_true = np.random.randn(p)\n",
    "for idx in idxs:\n",
    "    beta_true[idx] = 0\n",
    "\n",
    "Y = X @ beta_true + np.random.normal(0,1,n)\n",
    "Y[Y>=0] = 1\n",
    "Y[Y<0] = -1\n",
    "Y = Y.reshape(n,1)"
   ]
  },
  {
   "cell_type": "code",
   "execution_count": 3,
   "metadata": {},
   "outputs": [
    {
     "data": {
      "text/plain": [
       "array([33, 39, 11,  7, 20,  2, 31, 17])"
      ]
     },
     "execution_count": 3,
     "metadata": {},
     "output_type": "execute_result"
    }
   ],
   "source": [
    "idxs"
   ]
  },
  {
   "cell_type": "code",
   "execution_count": 4,
   "metadata": {},
   "outputs": [],
   "source": [
    "X_test = np.random.normal(0,1,size=(n,p))\n",
    "Y_test = X_test @ beta_true + np.random.normal(0,1,n)\n",
    "Y_test[Y_test >= 0] = 1\n",
    "Y_test[Y_test < 0] = -1\n",
    "Y_test = Y_test.reshape(100,1)"
   ]
  },
  {
   "cell_type": "markdown",
   "metadata": {},
   "source": [
    "## SVM "
   ]
  },
  {
   "cell_type": "code",
   "execution_count": 5,
   "metadata": {},
   "outputs": [],
   "source": [
    "beta = cp.Variable((p,1))\n",
    "lambd = cp.Parameter(nonneg = True)\n",
    "s1_error = cp.norm(beta,2)\n",
    "penalty_error = cp.sum(cp.pos(cp.multiply(Y, X @ beta)))\n",
    "problem = cp.Problem(cp.Minimize(s1_error + lambd*penalty_error))"
   ]
  },
  {
   "cell_type": "code",
   "execution_count": 6,
   "metadata": {},
   "outputs": [],
   "source": [
    "ite_time = 100\n",
    "#beta_val = []\n",
    "train_error = []\n",
    "test_error = []\n",
    "lambd_value = np.logspace(-2, 0, num=ite_time)"
   ]
  },
  {
   "cell_type": "code",
   "execution_count": 7,
   "metadata": {},
   "outputs": [],
   "source": [
    "for val in lambd_value:\n",
    "    lambd.value = val\n",
    "    problem.solve()\n",
    "    \n",
    "    Y_hat = X @ beta.value\n",
    "    Y_hat[Y_hat >=0] = 1\n",
    "    Y_hat[Y_hat < 0] = -1\n",
    "    train_error.append(np.sum(Y_hat != Y)/n)\n",
    "    \n",
    "    Y_test_hat = X_test @ beta.value\n",
    "    Y_test_hat[Y_test_hat >= 0] = 1\n",
    "    Y_test_hat[Y_test_hat < 0] = -1\n",
    "    test_error.append(np.sum(Y_test_hat != Y_test)/n)"
   ]
  },
  {
   "cell_type": "code",
   "execution_count": 8,
   "metadata": {},
   "outputs": [
    {
     "data": {
      "text/plain": [
       "[<matplotlib.lines.Line2D at 0x81e75a400>]"
      ]
     },
     "execution_count": 8,
     "metadata": {},
     "output_type": "execute_result"
    },
    {
     "data": {
      "image/png": "[encoded data removed]",
      "text/plain": [
       "<Figure size 432x288 with 1 Axes>"
      ]
     },
     "metadata": {
      "needs_background": "light"
     },
     "output_type": "display_data"
    }
   ],
   "source": [
    "plt.plot(train_error)\n",
    "plt.plot(test_error)"
   ]
  },
  {
   "cell_type": "markdown",
   "metadata": {},
   "source": [
    "## sparse SVM "
   ]
  },
  {
   "cell_type": "code",
   "execution_count": 9,
   "metadata": {},
   "outputs": [],
   "source": [
    "beta = cp.Variable((p,1))\n",
    "lambd = cp.Parameter(nonneg = True)\n",
    "s1_error = cp.norm(beta,1)\n",
    "penalty_error = cp.sum(cp.pos(cp.multiply(Y, X @ beta)))\n",
    "problem = cp.Problem(cp.Minimize(s1_error + lambd*penalty_error))"
   ]
  },
  {
   "cell_type": "code",
   "execution_count": 10,
   "metadata": {},
   "outputs": [],
   "source": [
    "ite_time = 100\n",
    "#beta_val = []\n",
    "train_error = []\n",
    "test_error = []\n",
    "lambd_value = np.logspace(-3, -1, num=ite_time)\n",
    "\n",
    "for val in lambd_value:\n",
    "    lambd.value = val\n",
    "    problem.solve()\n",
    "    \n",
    "    Y_hat = X @ beta.value\n",
    "    Y_hat[Y_hat >=0] = 1\n",
    "    Y_hat[Y_hat < 0] = -1\n",
    "    train_error.append(np.sum(Y_hat != Y)/n)\n",
    "    \n",
    "    Y_test_hat = X_test @ beta.value\n",
    "    Y_test_hat[Y_test_hat >= 0] = 1\n",
    "    Y_test_hat[Y_test_hat < 0] = -1\n",
    "    test_error.append(np.sum(Y_test_hat != Y_test)/n)"
   ]
  },
  {
   "cell_type": "code",
   "execution_count": 11,
   "metadata": {},
   "outputs": [
    {
     "data": {
      "text/plain": [
       "[<matplotlib.lines.Line2D at 0x81e86b908>]"
      ]
     },
     "execution_count": 11,
     "metadata": {},
     "output_type": "execute_result"
    },
    {
     "data": {
      "image/png": "[encoded data removed]",
      "text/plain": [
       "<Figure size 432x288 with 1 Axes>"
      ]
     },
     "metadata": {
      "needs_background": "light"
     },
     "output_type": "display_data"
    }
   ],
   "source": [
    "plt.plot(train_error)\n",
    "plt.plot(test_error)"
   ]
  },
  {
   "cell_type": "markdown",
   "metadata": {},
   "source": [
    "对于高维问题，如果不使用sparse svm，准确率很差，需要用sparse调参，准确率会上升"
   ]
  }
 ],
 "metadata": {
  "kernelspec": {
   "display_name": "Python 3",
   "language": "python",
   "name": "python3"
  },
  "language_info": {
   "codemirror_mode": {
    "name": "ipython",
    "version": 3
   },
   "file_extension": ".py",
   "mimetype": "text/x-python",
   "name": "python",
   "nbconvert_exporter": "python",
   "pygments_lexer": "ipython3",
   "version": "3.7.2"
  }
 },
 "nbformat": 4,
 "nbformat_minor": 2
}
